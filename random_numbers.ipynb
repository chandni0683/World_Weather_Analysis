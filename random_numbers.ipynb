{
 "cells": [
  {
   "cell_type": "code",
   "execution_count": 181,
   "id": "e8ebfc36",
   "metadata": {},
   "outputs": [],
   "source": [
    "import random"
   ]
  },
  {
   "cell_type": "code",
   "execution_count": 182,
   "id": "06a4f020",
   "metadata": {},
   "outputs": [
    {
     "data": {
      "text/plain": [
       "-15"
      ]
     },
     "execution_count": 182,
     "metadata": {},
     "output_type": "execute_result"
    }
   ],
   "source": [
    "random.randint(-90,90)"
   ]
  },
  {
   "cell_type": "code",
   "execution_count": 183,
   "id": "b982b3de",
   "metadata": {},
   "outputs": [
    {
     "data": {
      "text/plain": [
       "0.30666097245150126"
      ]
     },
     "execution_count": 183,
     "metadata": {},
     "output_type": "execute_result"
    }
   ],
   "source": [
    "random.random()"
   ]
  },
  {
   "cell_type": "code",
   "execution_count": 184,
   "id": "5c2a21ff",
   "metadata": {},
   "outputs": [
    {
     "data": {
      "text/plain": [
       "36.65077637208118"
      ]
     },
     "execution_count": 184,
     "metadata": {},
     "output_type": "execute_result"
    }
   ],
   "source": [
    "random_number = random.randint(-90,89) + random.random()\n",
    "random_number"
   ]
  },
  {
   "cell_type": "code",
   "execution_count": 185,
   "id": "2ae78ffb",
   "metadata": {
    "scrolled": false
   },
   "outputs": [
    {
     "data": {
      "text/plain": [
       "[76.65292789320505,\n",
       " 55.98735926935932,\n",
       " 2.953064429556634,\n",
       " -71.57809214408533,\n",
       " -11.27963489542559,\n",
       " -29.68777548026702,\n",
       " 49.9105460750032,\n",
       " -67.65823686804208,\n",
       " -68.3947960290451,\n",
       " -5.58738400990028]"
      ]
     },
     "execution_count": 185,
     "metadata": {},
     "output_type": "execute_result"
    }
   ],
   "source": [
    "x = 1\n",
    "latitudes = []\n",
    "while x < 11:\n",
    "    random_lat = random.randint(-90,89) + random.random()\n",
    "    latitudes.append(random_lat)\n",
    "    x += 1\n",
    "latitudes"
   ]
  },
  {
   "cell_type": "code",
   "execution_count": 186,
   "id": "05756b07",
   "metadata": {},
   "outputs": [
    {
     "data": {
      "text/plain": [
       "-73"
      ]
     },
     "execution_count": 186,
     "metadata": {},
     "output_type": "execute_result"
    }
   ],
   "source": [
    "random.randrange(-90, 90, step=1)"
   ]
  },
  {
   "cell_type": "code",
   "execution_count": 187,
   "id": "fbb9062d",
   "metadata": {},
   "outputs": [
    {
     "data": {
      "text/plain": [
       "18"
      ]
     },
     "execution_count": 187,
     "metadata": {},
     "output_type": "execute_result"
    }
   ],
   "source": [
    "random.randrange(-90, 90, step=3)"
   ]
  },
  {
   "cell_type": "code",
   "execution_count": 188,
   "id": "5a68d368",
   "metadata": {},
   "outputs": [
    {
     "data": {
      "text/plain": [
       "13.662610486252404"
      ]
     },
     "execution_count": 188,
     "metadata": {},
     "output_type": "execute_result"
    }
   ],
   "source": [
    "random.uniform(-90, 90)"
   ]
  },
  {
   "cell_type": "code",
   "execution_count": 189,
   "id": "0641e0c9",
   "metadata": {},
   "outputs": [],
   "source": [
    "#Import the numpy module\n",
    "import numpy as np"
   ]
  },
  {
   "cell_type": "code",
   "execution_count": 190,
   "id": "01dce970",
   "metadata": {},
   "outputs": [
    {
     "data": {
      "text/plain": [
       "72.53668690770454"
      ]
     },
     "execution_count": 190,
     "metadata": {},
     "output_type": "execute_result"
    }
   ],
   "source": [
    "np.random.uniform(-90.000, 90.000)"
   ]
  },
  {
   "cell_type": "code",
   "execution_count": 191,
   "id": "9b493b02",
   "metadata": {},
   "outputs": [
    {
     "data": {
      "text/plain": [
       "array([-44.21364238, -53.63422926,  -0.97415277, -16.4889746 ,\n",
       "       -38.26136867, -88.21993048, -89.3117068 ,  66.66238186,\n",
       "       -23.43604177,  79.82262266, -31.72852506, -46.27377598,\n",
       "       -32.1105303 , -14.0035631 ,  68.39537905, -31.91169509,\n",
       "        -3.10804546, -50.13858969, -76.75779073, -39.77860558,\n",
       "         8.83151546, -26.70379668,  29.27160483, -21.92352748,\n",
       "       -75.31740679, -62.09903223, -28.94513901,  87.3289697 ,\n",
       "        21.45229966, -81.18311152,  77.93356684,  31.74711111,\n",
       "        67.19406723, -68.18074209,  58.03915283, -71.3343619 ,\n",
       "        89.44093516, -70.95173419,  41.05876063,  79.45611781,\n",
       "       -77.56335035, -72.23622398, -28.03100967, -28.04481613,\n",
       "        39.93771468,  66.40625129,   8.70398568, -42.73596098,\n",
       "       -85.10238298, -86.67158193])"
      ]
     },
     "execution_count": 191,
     "metadata": {},
     "output_type": "execute_result"
    }
   ],
   "source": [
    "np.random.uniform(-90.000, 90.000, size=50)"
   ]
  },
  {
   "cell_type": "code",
   "execution_count": 192,
   "id": "ebf23cad",
   "metadata": {},
   "outputs": [],
   "source": [
    "#Import timeit.\n",
    "import timeit"
   ]
  },
  {
   "cell_type": "code",
   "execution_count": 193,
   "id": "499ae850",
   "metadata": {},
   "outputs": [
    {
     "name": "stdout",
     "output_type": "stream",
     "text": [
      "12.1 µs ± 568 ns per loop (mean ± std. dev. of 7 runs, 100000 loops each)\n"
     ]
    }
   ],
   "source": [
    "%timeit np.random.uniform(-90.000, 90.000, size=1500)"
   ]
  },
  {
   "cell_type": "code",
   "execution_count": 194,
   "id": "3f87a157",
   "metadata": {},
   "outputs": [
    {
     "name": "stdout",
     "output_type": "stream",
     "text": [
      "1.21 ms ± 50.9 µs per loop (mean ± std. dev. of 7 runs, 1000 loops each)\n"
     ]
    }
   ],
   "source": [
    "def latitudes(size):\n",
    "    latitudes = []\n",
    "    x = 0\n",
    "    while x < (size):\n",
    "        random_lat = random.randint(-90, 90) + random.random()\n",
    "        latitudes.append(random_lat)\n",
    "        x += 1\n",
    "    return latitudes\n",
    "# Call the function with 1500.\n",
    "%timeit latitudes(1500)\n",
    "    "
   ]
  },
  {
   "cell_type": "code",
   "execution_count": null,
   "id": "e981854a",
   "metadata": {},
   "outputs": [],
   "source": []
  },
  {
   "cell_type": "code",
   "execution_count": null,
   "id": "1f6b2d87",
   "metadata": {},
   "outputs": [],
   "source": []
  },
  {
   "cell_type": "code",
   "execution_count": null,
   "id": "c43ef87d",
   "metadata": {},
   "outputs": [],
   "source": []
  }
 ],
 "metadata": {
  "kernelspec": {
   "display_name": "PythonData",
   "language": "python",
   "name": "pythondata"
  },
  "language_info": {
   "codemirror_mode": {
    "name": "ipython",
    "version": 3
   },
   "file_extension": ".py",
   "mimetype": "text/x-python",
   "name": "python",
   "nbconvert_exporter": "python",
   "pygments_lexer": "ipython3",
   "version": "3.8.8"
  }
 },
 "nbformat": 4,
 "nbformat_minor": 5
}
